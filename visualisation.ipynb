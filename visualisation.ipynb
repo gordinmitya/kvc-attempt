{
 "cells": [
  {
   "cell_type": "code",
   "execution_count": null,
   "metadata": {},
   "outputs": [],
   "source": [
    "from h5_data import load_train_data, load_test_data\n",
    "import numpy as np\n",
    "from key_mappings import js_keymap\n",
    "import matplotlib.pyplot as plt\n",
    "from collections import defaultdict"
   ]
  },
  {
   "cell_type": "code",
   "execution_count": null,
   "metadata": {},
   "outputs": [],
   "source": [
    "data = np.load('desktop/desktop_dev_set.npy', allow_pickle=True).item()"
   ]
  },
  {
   "cell_type": "code",
   "execution_count": null,
   "metadata": {},
   "outputs": [],
   "source": [
    "keys = list(data.keys())\n",
    "print(keys[:20])\n",
    "user_key = '0HdCtvLt' # keys[1]\n",
    "print(data[keys[1]].keys())\n",
    "session_key = '1ArY0fEb' # list(data[user_key].keys())[3]"
   ]
  },
  {
   "cell_type": "code",
   "execution_count": null,
   "metadata": {},
   "outputs": [],
   "source": [
    "sample = data[user_key][session_key]\n",
    "print(len(sample))\n",
    "\n",
    "for arr in sample:\n",
    "    letter = (arr[2])\n",
    "    print(letter, end=' ')\n",
    "print()\n",
    "for arr in sample:\n",
    "    letter = js_keymap[arr[2]]\n",
    "    if arr[2] == 16:\n",
    "        letter = '↑'\n",
    "    elif arr[2] == 32:\n",
    "        letter = '␠'\n",
    "    elif arr[2] == 8:\n",
    "        letter = '⌫'\n",
    "    elif arr[2] == 13:\n",
    "        letter = '⏎'\n",
    "    elif arr[2] == 46:\n",
    "        letter = '⌦'\n",
    "    elif arr[2] == 20:\n",
    "        letter = '⇪'\n",
    "    print(letter, end='')"
   ]
  },
  {
   "cell_type": "code",
   "execution_count": null,
   "metadata": {},
   "outputs": [],
   "source": [
    "def preprocess(sample):\n",
    "    data = sample\n",
    "    data[:, :2] = (data[:, :2] - data[0][0])\n",
    "    duration = np.abs(data[:, 1] - data[:, 0])  # fix duration of keypress. ~349 items are broken\n",
    "    diff_press = np.diff(data[:, 0], prepend=data[0, 0])\n",
    "    data = np.column_stack((diff_press, duration, data[:, 2]))\n",
    "    return data\n",
    "\n",
    "preprocess(sample.copy())"
   ]
  },
  {
   "cell_type": "code",
   "execution_count": null,
   "metadata": {},
   "outputs": [],
   "source": [
    "diffs = defaultdict(int)\n",
    "durations = defaultdict(int)\n",
    "sample_lengths = defaultdict(int)\n",
    "\n",
    "for user, user_data in data.items():\n",
    "    for session, sample in user_data.items():\n",
    "        preprocessed = preprocess(sample.copy())\n",
    "        l = len(preprocessed)\n",
    "        sample_lengths[l] += 1\n",
    "        diff = np.median(preprocessed[:, 0])\n",
    "        diffs[diff] += 1\n",
    "        dur = np.median(preprocessed[:, 1])\n",
    "        durations[dur] += 1\n"
   ]
  },
  {
   "cell_type": "code",
   "execution_count": null,
   "metadata": {},
   "outputs": [],
   "source": [
    "plt.bar(durations.keys(), durations.values(), log=True)\n",
    "plt.title('Median duration of keypresses, ms')\n",
    "plt.show()"
   ]
  },
  {
   "cell_type": "code",
   "execution_count": null,
   "metadata": {},
   "outputs": [],
   "source": [
    "plt.bar(sample_lengths.keys(), sample_lengths.values(), log=True)\n",
    "plt.title('Length of samples, # of keypresses')\n",
    "plt.show()"
   ]
  },
  {
   "cell_type": "code",
   "execution_count": null,
   "metadata": {},
   "outputs": [],
   "source": [
    "plt.bar(diffs.keys(), diffs.values(), log=True)\n",
    "plt.title('Median difference between keypresses, ms')\n",
    "plt.show()"
   ]
  },
  {
   "cell_type": "code",
   "execution_count": null,
   "metadata": {},
   "outputs": [],
   "source": []
  }
 ],
 "metadata": {
  "kernelspec": {
   "display_name": ".venv",
   "language": "python",
   "name": "python3"
  },
  "language_info": {
   "codemirror_mode": {
    "name": "ipython",
    "version": 3
   },
   "file_extension": ".py",
   "mimetype": "text/x-python",
   "name": "python",
   "nbconvert_exporter": "python",
   "pygments_lexer": "ipython3",
   "version": "3.10.12"
  }
 },
 "nbformat": 4,
 "nbformat_minor": 2
}
